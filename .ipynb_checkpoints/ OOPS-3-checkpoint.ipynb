{
 "cells": [
  {
   "cell_type": "code",
   "execution_count": 1,
   "id": "3cf9d43f",
   "metadata": {},
   "outputs": [],
   "source": [
    "# Abstract Class - ABC is a abstract class, abc is a base functions"
   ]
  },
  {
   "cell_type": "code",
   "execution_count": 2,
   "id": "88493fc5",
   "metadata": {},
   "outputs": [],
   "source": [
    "from abc import ABC, abstractmethod\n"
   ]
  },
  {
   "cell_type": "code",
   "execution_count": 21,
   "id": "576d2341",
   "metadata": {},
   "outputs": [],
   "source": [
    "class Vehicle(ABC):\n",
    "    \n",
    "    @abstractmethod\n",
    "    def get_value(self):\n",
    "        pass\n",
    "    \n",
    "#     @abstractmethod\n",
    "#     def get_fare(self):\n",
    "#         pass\n",
    "\n",
    "class Car(Vehicle):\n",
    "    def __init__(self,make,model,fare):\n",
    "        self.make=make\n",
    "        self.model=model\n",
    "        self.fare=fare\n",
    "\n",
    "    def get_value(self):\n",
    "        return 1000*self.fare\n",
    "    \n",
    "#     def get_value1(self):\n",
    "#         return 1*self.fare\n",
    "        \n",
    "        "
   ]
  },
  {
   "cell_type": "code",
   "execution_count": 22,
   "id": "7cc7a93d",
   "metadata": {},
   "outputs": [],
   "source": [
    "obj1= Car(\"Tesla\",2019,40)"
   ]
  },
  {
   "cell_type": "code",
   "execution_count": 23,
   "id": "e0419457",
   "metadata": {},
   "outputs": [
    {
     "data": {
      "text/plain": [
       "40000"
      ]
     },
     "execution_count": 23,
     "metadata": {},
     "output_type": "execute_result"
    }
   ],
   "source": [
    "obj1.get_value()"
   ]
  },
  {
   "cell_type": "code",
   "execution_count": 25,
   "id": "a85efcc1",
   "metadata": {},
   "outputs": [
    {
     "name": "stdout",
     "output_type": "stream",
     "text": [
      "function 1 called\n"
     ]
    }
   ],
   "source": [
    "from abc import ABC,abstractmethod\n",
    "\n",
    "class A(ABC):\n",
    "\n",
    "    @abstractmethod\n",
    "    def fun1(self):\n",
    "        pass\n",
    "\n",
    "#     @abstractmethod\n",
    "#     def fun2(self):\n",
    "#         pass\n",
    "\n",
    "class B(A):\n",
    "\n",
    "    def fun1(self):\n",
    "        print(\"function 1 called\")\n",
    "o = B()\n",
    "o.fun1()"
   ]
  },
  {
   "cell_type": "code",
   "execution_count": 26,
   "id": "fe0c9409",
   "metadata": {},
   "outputs": [],
   "source": [
    "#Abstract Classes- Continue"
   ]
  },
  {
   "cell_type": "code",
   "execution_count": 27,
   "id": "6da1a5a4",
   "metadata": {},
   "outputs": [],
   "source": [
    "from abc import ABC,abstractmethod"
   ]
  },
  {
   "cell_type": "code",
   "execution_count": 29,
   "id": "b3e4bc7e",
   "metadata": {},
   "outputs": [],
   "source": [
    "class TextReaderAbstract(ABC):\n",
    "    def __init__(self,path,filename):\n",
    "        self.path=path\n",
    "        self.filename=filename\n",
    "    \n",
    "    @abstractmethod #this is just an interface or \"Rule\"\n",
    "    def get_path(self):\n",
    "        pass\n",
    "    @abstractmethod #this is just an interface or \"Rule\"\n",
    "    def get_filename(self):\n",
    "        pass\n",
    "    "
   ]
  },
  {
   "cell_type": "code",
   "execution_count": 30,
   "id": "315cfd0b",
   "metadata": {},
   "outputs": [],
   "source": [
    "class TextReader(TextReaderAbstract): #no need to define the init again , we can override it .\n",
    "    def get_path(self):\n",
    "        return self.path\n",
    "    \n",
    "    def get_filename(self):\n",
    "        return self.filename\n",
    "    \n",
    "        \n",
    "        \n",
    "    "
   ]
  },
  {
   "cell_type": "code",
   "execution_count": 32,
   "id": "195ba3ec",
   "metadata": {},
   "outputs": [],
   "source": [
    "obj1=TextReader(\"/user/download\",\"sample.txt\")"
   ]
  },
  {
   "cell_type": "code",
   "execution_count": 34,
   "id": "739f6c98",
   "metadata": {},
   "outputs": [
    {
     "data": {
      "text/plain": [
       "'/user/download'"
      ]
     },
     "execution_count": 34,
     "metadata": {},
     "output_type": "execute_result"
    }
   ],
   "source": [
    "obj1.get_path()"
   ]
  },
  {
   "cell_type": "code",
   "execution_count": 35,
   "id": "b8269fe6",
   "metadata": {},
   "outputs": [
    {
     "data": {
      "text/plain": [
       "'sample.txt'"
      ]
     },
     "execution_count": 35,
     "metadata": {},
     "output_type": "execute_result"
    }
   ],
   "source": [
    "obj1.get_filename()"
   ]
  },
  {
   "cell_type": "code",
   "execution_count": 36,
   "id": "ed49dd14",
   "metadata": {},
   "outputs": [
    {
     "data": {
      "text/plain": [
       "{'path': '/user/download', 'filename': 'sample.txt'}"
      ]
     },
     "execution_count": 36,
     "metadata": {},
     "output_type": "execute_result"
    }
   ],
   "source": [
    "obj1.__dict__"
   ]
  },
  {
   "cell_type": "code",
   "execution_count": 37,
   "id": "10779555",
   "metadata": {},
   "outputs": [],
   "source": [
    "class Bank(ABC):\n",
    "    @abstractmethod\n",
    "    def get_interest(self):\n",
    "        pass"
   ]
  },
  {
   "cell_type": "code",
   "execution_count": 38,
   "id": "157795e2",
   "metadata": {},
   "outputs": [],
   "source": [
    "class HDFC(Bank):\n",
    "    def get_interest(self):\n",
    "        return 8.9"
   ]
  },
  {
   "cell_type": "code",
   "execution_count": 39,
   "id": "a11268c3",
   "metadata": {},
   "outputs": [],
   "source": [
    "ob=HDFC()"
   ]
  },
  {
   "cell_type": "code",
   "execution_count": 40,
   "id": "29eaf61e",
   "metadata": {},
   "outputs": [
    {
     "data": {
      "text/plain": [
       "8.9"
      ]
     },
     "execution_count": 40,
     "metadata": {},
     "output_type": "execute_result"
    }
   ],
   "source": [
    "ob.get_interest()"
   ]
  },
  {
   "cell_type": "code",
   "execution_count": 43,
   "id": "caa54919",
   "metadata": {},
   "outputs": [
    {
     "name": "stdout",
     "output_type": "stream",
     "text": [
      "function 1 called\n"
     ]
    }
   ],
   "source": [
    "from abc import ABC,abstractmethod\n",
    "\n",
    "class A(ABC):\n",
    "\n",
    "    @abstractmethod\n",
    "    def fun1(self):\n",
    "        print(\"function of class A called\")\n",
    "\n",
    "    @abstractmethod\n",
    "    def fun2(self):\n",
    "        pass\n",
    "\n",
    "class B(A):\n",
    "    def fun1(self):\n",
    "        print(\"function 1 called\")\n",
    "    def fun2(self):\n",
    "        print(\"function 2 called\")\n",
    "o = B()\n",
    "o.fun1()"
   ]
  },
  {
   "cell_type": "code",
   "execution_count": null,
   "id": "d7803f6c",
   "metadata": {},
   "outputs": [],
   "source": []
  }
 ],
 "metadata": {
  "kernelspec": {
   "display_name": "Python 3 (ipykernel)",
   "language": "python",
   "name": "python3"
  },
  "language_info": {
   "codemirror_mode": {
    "name": "ipython",
    "version": 3
   },
   "file_extension": ".py",
   "mimetype": "text/x-python",
   "name": "python",
   "nbconvert_exporter": "python",
   "pygments_lexer": "ipython3",
   "version": "3.9.13"
  }
 },
 "nbformat": 4,
 "nbformat_minor": 5
}
