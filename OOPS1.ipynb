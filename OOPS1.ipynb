{
 "cells": [
  {
   "cell_type": "code",
   "execution_count": 1,
   "id": "607fbf9d",
   "metadata": {},
   "outputs": [],
   "source": [
    "class ExpenseTracker:\n",
    "    \"\"\"this is a class to do expense tracking\"\"\"\n",
    "    def __init__(self):\n",
    "        pass\n",
    "    \n",
    "    \n",
    "\n",
    "        "
   ]
  },
  {
   "cell_type": "code",
   "execution_count": 2,
   "id": "69e3ee78",
   "metadata": {},
   "outputs": [],
   "source": [
    "obj1=ExpenseTracker()"
   ]
  },
  {
   "cell_type": "code",
   "execution_count": 3,
   "id": "3c6165e8",
   "metadata": {},
   "outputs": [],
   "source": [
    "class ExpenseTracker:\n",
    "    \"\"\"this is a class to do expense tracking\"\"\"\n",
    "    def __init__(self,date,description,transaction_type,amount):\n",
    "        self.date=date\n",
    "        self.description=description\n",
    "        self.transaction_type=transaction_type\n",
    "        self.amount=amount"
   ]
  },
  {
   "cell_type": "code",
   "execution_count": 5,
   "id": "5f9124ca",
   "metadata": {},
   "outputs": [],
   "source": [
    "obj2=ExpenseTracker(\"12-07-2012\",\"This is your home expense\",\"Debit\",\"500\")\n",
    "obj3=ExpenseTracker(\"1Jan\",\"Salary Credited\",\"Credit\",\"40000\")\n"
   ]
  },
  {
   "cell_type": "code",
   "execution_count": 8,
   "id": "3d09db11",
   "metadata": {},
   "outputs": [
    {
     "data": {
      "text/plain": [
       "'1Jan'"
      ]
     },
     "execution_count": 8,
     "metadata": {},
     "output_type": "execute_result"
    }
   ],
   "source": [
    "obj3.date"
   ]
  },
  {
   "cell_type": "code",
   "execution_count": 9,
   "id": "3fbe63d2",
   "metadata": {},
   "outputs": [],
   "source": [
    "class ExpenseTracker:\n",
    "    #class Attributes\n",
    "    expense_tracker_version=1.0\n",
    "    \"\"\"this is a class to do expense tracking\"\"\"\n",
    "    def __init__(self,tracker_category,opening_balance,budget):\n",
    "        self.tracker_category=tracker_category\n",
    "        self.opening_balance=opening_balance\n",
    "        self.budget=budget\n",
    "        \n",
    "    "
   ]
  },
  {
   "cell_type": "code",
   "execution_count": 10,
   "id": "d772a356",
   "metadata": {},
   "outputs": [],
   "source": [
    "home_tracker=ExpenseTracker(\"home\",3000,10000)\n"
   ]
  },
  {
   "cell_type": "code",
   "execution_count": 11,
   "id": "97bc679f",
   "metadata": {},
   "outputs": [
    {
     "data": {
      "text/plain": [
       "10000"
      ]
     },
     "execution_count": 11,
     "metadata": {},
     "output_type": "execute_result"
    }
   ],
   "source": [
    "home_tracker.budget"
   ]
  },
  {
   "cell_type": "code",
   "execution_count": 12,
   "id": "c0deab3c",
   "metadata": {},
   "outputs": [],
   "source": [
    "shopping_tracker=ExpenseTracker(\"shopping\",31000,50000)"
   ]
  },
  {
   "cell_type": "code",
   "execution_count": 13,
   "id": "0b5dede0",
   "metadata": {},
   "outputs": [
    {
     "data": {
      "text/plain": [
       "50000"
      ]
     },
     "execution_count": 13,
     "metadata": {},
     "output_type": "execute_result"
    }
   ],
   "source": [
    "shopping_tracker.budget"
   ]
  },
  {
   "cell_type": "code",
   "execution_count": 15,
   "id": "7dab96a0",
   "metadata": {},
   "outputs": [
    {
     "data": {
      "text/plain": [
       "{'tracker_category': 'home', 'opening_balance': 3000, 'budget': 10000}"
      ]
     },
     "execution_count": 15,
     "metadata": {},
     "output_type": "execute_result"
    }
   ],
   "source": [
    "home_tracker.__dict__"
   ]
  },
  {
   "cell_type": "code",
   "execution_count": 16,
   "id": "19a6fd32",
   "metadata": {},
   "outputs": [
    {
     "data": {
      "text/plain": [
       "{'tracker_category': 'shopping', 'opening_balance': 31000, 'budget': 50000}"
      ]
     },
     "execution_count": 16,
     "metadata": {},
     "output_type": "execute_result"
    }
   ],
   "source": [
    "shopping_tracker.__dict__\n"
   ]
  },
  {
   "cell_type": "code",
   "execution_count": 17,
   "id": "ee5bf957",
   "metadata": {},
   "outputs": [
    {
     "data": {
      "text/plain": [
       "3000"
      ]
     },
     "execution_count": 17,
     "metadata": {},
     "output_type": "execute_result"
    }
   ],
   "source": [
    "getattr(home_tracker,'opening_balance')"
   ]
  },
  {
   "cell_type": "code",
   "execution_count": 18,
   "id": "aa3543ac",
   "metadata": {},
   "outputs": [
    {
     "ename": "AttributeError",
     "evalue": "'ExpenseTracker' object has no attribute 'balance'",
     "output_type": "error",
     "traceback": [
      "\u001b[0;31m---------------------------------------------------------------------------\u001b[0m",
      "\u001b[0;31mAttributeError\u001b[0m                            Traceback (most recent call last)",
      "\u001b[0;32m/var/folders/_d/rmbzns7j1t72f6lx3b54nl140000gn/T/ipykernel_10877/4084860899.py\u001b[0m in \u001b[0;36m<module>\u001b[0;34m\u001b[0m\n\u001b[0;32m----> 1\u001b[0;31m \u001b[0mgetattr\u001b[0m\u001b[0;34m(\u001b[0m\u001b[0mhome_tracker\u001b[0m\u001b[0;34m,\u001b[0m\u001b[0;34m'balance'\u001b[0m\u001b[0;34m)\u001b[0m\u001b[0;34m\u001b[0m\u001b[0;34m\u001b[0m\u001b[0m\n\u001b[0m",
      "\u001b[0;31mAttributeError\u001b[0m: 'ExpenseTracker' object has no attribute 'balance'"
     ]
    }
   ],
   "source": [
    "getattr(home_tracker,'balance')"
   ]
  },
  {
   "cell_type": "code",
   "execution_count": 20,
   "id": "df633b9d",
   "metadata": {},
   "outputs": [
    {
     "data": {
      "text/plain": [
       "False"
      ]
     },
     "execution_count": 20,
     "metadata": {},
     "output_type": "execute_result"
    }
   ],
   "source": [
    "hasattr(home_tracker,'opening_balance')"
   ]
  },
  {
   "cell_type": "code",
   "execution_count": 22,
   "id": "12a2932d",
   "metadata": {},
   "outputs": [
    {
     "data": {
      "text/plain": [
       "False"
      ]
     },
     "execution_count": 22,
     "metadata": {},
     "output_type": "execute_result"
    }
   ],
   "source": [
    "hasattr(home_tracker,'balance')"
   ]
  },
  {
   "cell_type": "code",
   "execution_count": 23,
   "id": "6255878e",
   "metadata": {},
   "outputs": [
    {
     "data": {
      "text/plain": [
       "{'tracker_category': 'home', 'opening_balance': 3000, 'budget': 10000}"
      ]
     },
     "execution_count": 23,
     "metadata": {},
     "output_type": "execute_result"
    }
   ],
   "source": [
    "home_tracker.__dict__"
   ]
  },
  {
   "cell_type": "code",
   "execution_count": 25,
   "id": "819cc8d1",
   "metadata": {},
   "outputs": [],
   "source": [
    "delattr(home_tracker,'opening_balance')"
   ]
  },
  {
   "cell_type": "code",
   "execution_count": 26,
   "id": "97056515",
   "metadata": {},
   "outputs": [
    {
     "data": {
      "text/plain": [
       "{'tracker_category': 'home', 'budget': 10000}"
      ]
     },
     "execution_count": 26,
     "metadata": {},
     "output_type": "execute_result"
    }
   ],
   "source": [
    "home_tracker.__dict__"
   ]
  },
  {
   "cell_type": "code",
   "execution_count": 1,
   "id": "2bcecd80",
   "metadata": {},
   "outputs": [],
   "source": [
    "##Instance Variables"
   ]
  },
  {
   "cell_type": "code",
   "execution_count": 2,
   "id": "432d97aa",
   "metadata": {},
   "outputs": [],
   "source": [
    "class ExpenseTracker:\n",
    "#     Class Attribute\n",
    "    expense_version_tracker = 0.1\n",
    "    def __init__(self,tracker_category,opening_balance,budget):\n",
    "#         Instance variable\n",
    "        self.tracker_category=tracker_category\n",
    "        self.opening_balance=opening_balance\n",
    "        self.budget=budget"
   ]
  },
  {
   "cell_type": "code",
   "execution_count": 3,
   "id": "a14e9e22",
   "metadata": {},
   "outputs": [],
   "source": [
    "home_tracker= ExpenseTracker(\"home\",0,10000)\n",
    "shopping_tracker= ExpenseTracker(\"shopping\",1000,5000)\n"
   ]
  },
  {
   "cell_type": "code",
   "execution_count": 4,
   "id": "30177f06",
   "metadata": {},
   "outputs": [
    {
     "data": {
      "text/plain": [
       "'home'"
      ]
     },
     "execution_count": 4,
     "metadata": {},
     "output_type": "execute_result"
    }
   ],
   "source": [
    "home_tracker.tracker_category\n"
   ]
  },
  {
   "cell_type": "code",
   "execution_count": 5,
   "id": "dd5bd664",
   "metadata": {},
   "outputs": [
    {
     "data": {
      "text/plain": [
       "'home'"
      ]
     },
     "execution_count": 5,
     "metadata": {},
     "output_type": "execute_result"
    }
   ],
   "source": [
    "getattr(home_tracker,\"tracker_category\")"
   ]
  },
  {
   "cell_type": "code",
   "execution_count": 6,
   "id": "2bdb8320",
   "metadata": {},
   "outputs": [
    {
     "data": {
      "text/plain": [
       "{'tracker_category': 'home', 'opening_balance': 0, 'budget': 10000}"
      ]
     },
     "execution_count": 6,
     "metadata": {},
     "output_type": "execute_result"
    }
   ],
   "source": [
    "home_tracker.__dict__"
   ]
  },
  {
   "cell_type": "code",
   "execution_count": 7,
   "id": "7104c8a1",
   "metadata": {},
   "outputs": [
    {
     "data": {
      "text/plain": [
       "'shopping'"
      ]
     },
     "execution_count": 7,
     "metadata": {},
     "output_type": "execute_result"
    }
   ],
   "source": [
    "shopping_tracker.tracker_category"
   ]
  },
  {
   "cell_type": "code",
   "execution_count": 8,
   "id": "f7c2f4b3",
   "metadata": {},
   "outputs": [
    {
     "data": {
      "text/plain": [
       "0.1"
      ]
     },
     "execution_count": 8,
     "metadata": {},
     "output_type": "execute_result"
    }
   ],
   "source": [
    "shopping_tracker.expense_version_tracker"
   ]
  },
  {
   "cell_type": "code",
   "execution_count": 9,
   "id": "fd843000",
   "metadata": {},
   "outputs": [
    {
     "data": {
      "text/plain": [
       "0.1"
      ]
     },
     "execution_count": 9,
     "metadata": {},
     "output_type": "execute_result"
    }
   ],
   "source": [
    "home_tracker.expense_version_tracker"
   ]
  },
  {
   "cell_type": "code",
   "execution_count": 10,
   "id": "c77d8c86",
   "metadata": {},
   "outputs": [],
   "source": [
    "##STATIC Topic video insights"
   ]
  },
  {
   "cell_type": "code",
   "execution_count": 36,
   "id": "50d02877",
   "metadata": {},
   "outputs": [],
   "source": [
    "class ExpenseTracker:\n",
    "    #class Attributes\n",
    "    expense_tracker_version=1.0\n",
    "    \"\"\"this is a class to do expense tracking\"\"\"\n",
    "    def __init__(self,track_category,original_balance,budget):\n",
    "        self.tracking_category=track_category\n",
    "        self.original_balance=original_balance\n",
    "        self.tracker_budget=budget\n",
    "#     instance\n",
    "    def get_original_balance(self):\n",
    "        return self.original_balance\n",
    "#   Instance method\n",
    "    def check_balance(self,limit=1000):\n",
    "        if self.tracker_budget >= limit:\n",
    "            return True\n",
    "        else:\n",
    "            return \"Your opening balance is less than limit\"\n",
    "    #static method\n",
    "    @staticmethod\n",
    "    def convert_amount(amount):\n",
    "        return float(amount)\n",
    "    "
   ]
  },
  {
   "cell_type": "code",
   "execution_count": 37,
   "id": "9b8159c7",
   "metadata": {},
   "outputs": [],
   "source": [
    "obj=ExpenseTracker(\"Home\",0,10)\n",
    "obj2=ExpenseTracker(\"Business\",10000,1000000)"
   ]
  },
  {
   "cell_type": "code",
   "execution_count": 38,
   "id": "c62814ba",
   "metadata": {},
   "outputs": [
    {
     "data": {
      "text/plain": [
       "10000"
      ]
     },
     "execution_count": 38,
     "metadata": {},
     "output_type": "execute_result"
    }
   ],
   "source": [
    "obj.get_original_balance()\n",
    "obj2.get_original_balance()"
   ]
  },
  {
   "cell_type": "code",
   "execution_count": 39,
   "id": "e0381217",
   "metadata": {},
   "outputs": [
    {
     "data": {
      "text/plain": [
       "'Your opening balance is less than limit'"
      ]
     },
     "execution_count": 39,
     "metadata": {},
     "output_type": "execute_result"
    }
   ],
   "source": [
    "obj.check_balance()\n"
   ]
  },
  {
   "cell_type": "code",
   "execution_count": 40,
   "id": "9d2c9b2f",
   "metadata": {},
   "outputs": [
    {
     "data": {
      "text/plain": [
       "True"
      ]
     },
     "execution_count": 40,
     "metadata": {},
     "output_type": "execute_result"
    }
   ],
   "source": [
    "obj.check_balance(limit=9)"
   ]
  },
  {
   "cell_type": "code",
   "execution_count": 41,
   "id": "425d5c0b",
   "metadata": {},
   "outputs": [
    {
     "data": {
      "text/plain": [
       "'Your opening balance is less than limit'"
      ]
     },
     "execution_count": 41,
     "metadata": {},
     "output_type": "execute_result"
    }
   ],
   "source": [
    "obj.check_balance(limit=10000)"
   ]
  },
  {
   "cell_type": "code",
   "execution_count": 43,
   "id": "8602f0cb",
   "metadata": {},
   "outputs": [
    {
     "data": {
      "text/plain": [
       "1000.0"
      ]
     },
     "execution_count": 43,
     "metadata": {},
     "output_type": "execute_result"
    }
   ],
   "source": [
    "\n",
    "ExpenseTracker.convert_amount(1000)"
   ]
  },
  {
   "cell_type": "code",
   "execution_count": 44,
   "id": "7666891b",
   "metadata": {},
   "outputs": [
    {
     "data": {
      "text/plain": [
       "1000.0"
      ]
     },
     "execution_count": 44,
     "metadata": {},
     "output_type": "execute_result"
    }
   ],
   "source": [
    "obj.convert_amount(1000)"
   ]
  },
  {
   "cell_type": "code",
   "execution_count": 45,
   "id": "fee42487",
   "metadata": {},
   "outputs": [
    {
     "data": {
      "text/plain": [
       "12.121"
      ]
     },
     "execution_count": 45,
     "metadata": {},
     "output_type": "execute_result"
    }
   ],
   "source": [
    "obj2.convert_amount(12.12100000)"
   ]
  },
  {
   "cell_type": "code",
   "execution_count": 46,
   "id": "5fa6f39f",
   "metadata": {},
   "outputs": [],
   "source": [
    "##CLASS MEthod"
   ]
  },
  {
   "cell_type": "code",
   "execution_count": 47,
   "id": "2e86b6af",
   "metadata": {},
   "outputs": [],
   "source": [
    "class ExpenseTracker:\n",
    "    #class Attributes\n",
    "    expense_tracker_version=1.0\n",
    "    \"\"\"this is a class to do expense tracking\"\"\"\n",
    "    def __init__(self,track_category,original_balance,budget):\n",
    "        self.tracking_category=track_category\n",
    "        self.original_balance=original_balance\n",
    "        self.tracker_budget=budget\n",
    "#     instance\n",
    "    def get_original_balance(self):\n",
    "        return self.original_balance\n",
    "#   Instance method\n",
    "    def check_balance(self,limit=1000):\n",
    "        if self.tracker_budget >= limit:\n",
    "            return True\n",
    "        else:\n",
    "            return \"Your opening balance is less than limit\"\n",
    "    #static method\n",
    "    @staticmethod\n",
    "    def convert_amount(amount):\n",
    "        return float(amount)\n",
    "#     Factory Method\n",
    "    @classmethod\n",
    "    def get_attributes_from_string(cls,diary_entry:str):\n",
    "        tracking_category,original_balance,tracker_budget=diary_entry.split(\" \")\n",
    "        return ExpenseTracker(tracking_category.capitalize(),cls.convert_amount(original_balance),\n",
    "                              cls.convert_amount(tracker_budget))"
   ]
  },
  {
   "cell_type": "code",
   "execution_count": 48,
   "id": "748e3c43",
   "metadata": {},
   "outputs": [],
   "source": [
    "ClassObject= ExpenseTracker.get_attributes_from_string(\"shopping 100 5000\")"
   ]
  },
  {
   "cell_type": "code",
   "execution_count": 49,
   "id": "7199709f",
   "metadata": {},
   "outputs": [
    {
     "name": "stdout",
     "output_type": "stream",
     "text": [
      "<__main__.ExpenseTracker object at 0x7f8e10a92670>\n"
     ]
    }
   ],
   "source": [
    "print(ClassObject)"
   ]
  },
  {
   "cell_type": "code",
   "execution_count": 50,
   "id": "ea33d8d2",
   "metadata": {},
   "outputs": [
    {
     "data": {
      "text/plain": [
       "{'tracking_category': 'Shopping',\n",
       " 'original_balance': 100.0,\n",
       " 'tracker_budget': 5000.0}"
      ]
     },
     "execution_count": 50,
     "metadata": {},
     "output_type": "execute_result"
    }
   ],
   "source": [
    "ClassObject.__dict__"
   ]
  },
  {
   "cell_type": "code",
   "execution_count": 51,
   "id": "373f6fe4",
   "metadata": {},
   "outputs": [
    {
     "data": {
      "text/plain": [
       "'Shopping'"
      ]
     },
     "execution_count": 51,
     "metadata": {},
     "output_type": "execute_result"
    }
   ],
   "source": [
    "ClassObject.tracking_category"
   ]
  },
  {
   "cell_type": "code",
   "execution_count": 52,
   "id": "b04fd5d5",
   "metadata": {},
   "outputs": [],
   "source": [
    "#Public and Private Modifiers\n"
   ]
  },
  {
   "cell_type": "code",
   "execution_count": 76,
   "id": "4815c4ea",
   "metadata": {},
   "outputs": [],
   "source": [
    "class ExpenseTracker:\n",
    "    #class Attributes\n",
    "    expense_tracker_version=1.0\n",
    "    \"\"\"this is a class to do expense tracking\"\"\"\n",
    "    def __init__(self,track_category,original_balance,budget):        \n",
    "#         Public Attribute\n",
    "        self.tracking_category=track_category\n",
    "#     Private Attribute\n",
    "        self.__original_balance=original_balance\n",
    "        self.__tracker_budget=budget\n",
    "#     instance method\n",
    "    def __get_original_balance(self):\n",
    "        return self.__original_balance\n",
    "#   Instance method\n",
    "# Private Method\n",
    "    def check_balance(self,limit=1000):\n",
    "        if self.tracker_budget >= limit:\n",
    "            return True\n",
    "        else:\n",
    "            return \"Your opening balance is less than limit\"\n",
    "    #static method\n",
    "    @staticmethod\n",
    "    def convert_amount(amount):\n",
    "        return float(amount)\n",
    "#     Factory Method\n",
    "    @classmethod\n",
    "    def get_attributes_from_string(cls,diary_entry:str):\n",
    "        tracking_category,original_balance,tracker_budget=diary_entry.split(\" \")\n",
    "        return ExpenseTracker(tracking_category.capitalize(),cls.convert_amount(original_balance),\n",
    "                              cls.convert_amount(tracker_budget))"
   ]
  },
  {
   "cell_type": "code",
   "execution_count": 77,
   "id": "4ddeeb2c",
   "metadata": {},
   "outputs": [],
   "source": [
    "home= ExpenseTracker(\"home\",0,1000)"
   ]
  },
  {
   "cell_type": "code",
   "execution_count": 78,
   "id": "7e34d1e3",
   "metadata": {},
   "outputs": [
    {
     "data": {
      "text/plain": [
       "'home'"
      ]
     },
     "execution_count": 78,
     "metadata": {},
     "output_type": "execute_result"
    }
   ],
   "source": [
    "home.tracking_category"
   ]
  },
  {
   "cell_type": "code",
   "execution_count": 79,
   "id": "88d4dce8",
   "metadata": {},
   "outputs": [
    {
     "ename": "AttributeError",
     "evalue": "'ExpenseTracker' object has no attribute '__tracker_budget'",
     "output_type": "error",
     "traceback": [
      "\u001b[0;31m---------------------------------------------------------------------------\u001b[0m",
      "\u001b[0;31mAttributeError\u001b[0m                            Traceback (most recent call last)",
      "\u001b[0;32m/var/folders/_d/rmbzns7j1t72f6lx3b54nl140000gn/T/ipykernel_83648/1535313620.py\u001b[0m in \u001b[0;36m<module>\u001b[0;34m\u001b[0m\n\u001b[0;32m----> 1\u001b[0;31m \u001b[0mhome\u001b[0m\u001b[0;34m.\u001b[0m\u001b[0m__tracker_budget\u001b[0m\u001b[0;34m\u001b[0m\u001b[0;34m\u001b[0m\u001b[0m\n\u001b[0m",
      "\u001b[0;31mAttributeError\u001b[0m: 'ExpenseTracker' object has no attribute '__tracker_budget'"
     ]
    }
   ],
   "source": [
    "home.__tracker_budget"
   ]
  },
  {
   "cell_type": "code",
   "execution_count": 80,
   "id": "0c65d8c7",
   "metadata": {},
   "outputs": [
    {
     "data": {
      "text/plain": [
       "{'tracking_category': 'home',\n",
       " '_ExpenseTracker__original_balance': 0,\n",
       " '_ExpenseTracker__tracker_budget': 1000}"
      ]
     },
     "execution_count": 80,
     "metadata": {},
     "output_type": "execute_result"
    }
   ],
   "source": [
    "home.__dict__"
   ]
  },
  {
   "cell_type": "code",
   "execution_count": 81,
   "id": "0f59381f",
   "metadata": {},
   "outputs": [
    {
     "data": {
      "text/plain": [
       "0"
      ]
     },
     "execution_count": 81,
     "metadata": {},
     "output_type": "execute_result"
    }
   ],
   "source": [
    "home._ExpenseTracker__original_balance"
   ]
  },
  {
   "cell_type": "code",
   "execution_count": 83,
   "id": "275a780b",
   "metadata": {},
   "outputs": [
    {
     "data": {
      "text/plain": [
       "0"
      ]
     },
     "execution_count": 83,
     "metadata": {},
     "output_type": "execute_result"
    }
   ],
   "source": [
    "home._ExpenseTracker__get_original_balance()"
   ]
  },
  {
   "cell_type": "code",
   "execution_count": null,
   "id": "9e717036",
   "metadata": {},
   "outputs": [],
   "source": []
  },
  {
   "cell_type": "code",
   "execution_count": null,
   "id": "b8ac89d3",
   "metadata": {},
   "outputs": [],
   "source": []
  }
 ],
 "metadata": {
  "kernelspec": {
   "display_name": "Python 3 (ipykernel)",
   "language": "python",
   "name": "python3"
  },
  "language_info": {
   "codemirror_mode": {
    "name": "ipython",
    "version": 3
   },
   "file_extension": ".py",
   "mimetype": "text/x-python",
   "name": "python",
   "nbconvert_exporter": "python",
   "pygments_lexer": "ipython3",
   "version": "3.9.13"
  }
 },
 "nbformat": 4,
 "nbformat_minor": 5
}
