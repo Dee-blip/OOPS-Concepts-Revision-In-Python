{
 "cells": [
  {
   "cell_type": "markdown",
   "id": "d064b55b",
   "metadata": {},
   "source": [
    "## Adjacent Matrix Representation in the Graph"
   ]
  },
  {
   "cell_type": "code",
   "execution_count": 2,
   "id": "851e9d6f",
   "metadata": {},
   "outputs": [
    {
     "name": "stdout",
     "output_type": "stream",
     "text": [
      "add [[0, 1, 0, 0, 0], [1, 0, 0, 0, 0], [0, 0, 0, 0, 0], [0, 0, 0, 0, 0], [0, 0, 0, 0, 0]]\n",
      "add [[0, 1, 1, 0, 0], [1, 0, 0, 0, 0], [1, 0, 0, 0, 0], [0, 0, 0, 0, 0], [0, 0, 0, 0, 0]]\n",
      "add [[0, 1, 1, 0, 0], [1, 0, 1, 0, 0], [1, 1, 0, 0, 0], [0, 0, 0, 0, 0], [0, 0, 0, 0, 0]]\n",
      "add [[0, 1, 1, 0, 0], [1, 0, 1, 0, 0], [1, 1, 0, 0, 0], [0, 0, 0, 0, 1], [0, 0, 0, 1, 0]]\n",
      "add [[0, 1, 1, 0, 0], [1, 0, 1, 0, 0], [1, 1, 0, 0, 0], [0, 0, 0, 0, 1], [0, 0, 0, 1, 0]]\n"
     ]
    },
    {
     "data": {
      "text/plain": [
       "[[0, 1, 1, 0, 0],\n",
       " [1, 0, 1, 0, 0],\n",
       " [1, 1, 0, 0, 0],\n",
       " [0, 0, 0, 0, 0],\n",
       " [0, 0, 0, 0, 0]]"
      ]
     },
     "execution_count": 2,
     "metadata": {},
     "output_type": "execute_result"
    }
   ],
   "source": [
    "class Graph1:\n",
    "    def __init__(self,size):\n",
    "        self.adjmatrix=[]\n",
    "        for i in range(size):\n",
    "            self.adjmatrix.append([0 for i in range(size)])\n",
    "#         self.size=size\n",
    "        \n",
    "    def add_edge(self,v1,v2):\n",
    "        if v1==v2:\n",
    "            print(\"Same vertex\")\n",
    "        self.adjmatrix[v1][v2]=1\n",
    "        self.adjmatrix[v2][v1]=1\n",
    "        print(\"add\",self.adjmatrix)\n",
    "    \n",
    "    def remove_edge(self,v1,v2):\n",
    "        if self.adjmatrix[v1][v2]==0:\n",
    "            print(\"Already deleted\")\n",
    "        self.adjmatrix[v1][v2]=0\n",
    "        self.adjmatrix[v2][v1]=0\n",
    "        \n",
    "    def len1(self):\n",
    "        return self.size\n",
    "    \n",
    "    def print_matrix(self):\n",
    "        return self.adjmatrix\n",
    "    \n",
    "\n",
    "\n",
    "g1=Graph1(5)\n",
    "g1.add_edge(0,1)\n",
    "g1.add_edge(0,2)\n",
    "g1.add_edge(1,2)\n",
    "g1.add_edge(3,4)\n",
    "g1.add_edge(4,3)\n",
    "g1.print_matrix()\n",
    "\n",
    "g1.remove_edge(4,3)\n",
    "g1.print_matrix()\n"
   ]
  },
  {
   "cell_type": "markdown",
   "id": "af0cb22f",
   "metadata": {},
   "source": [
    "## List Representation of a Graph"
   ]
  },
  {
   "cell_type": "code",
   "execution_count": 42,
   "id": "8c790d30",
   "metadata": {},
   "outputs": [
    {
     "name": "stdout",
     "output_type": "stream",
     "text": [
      "add [[1], [], [], [], [], []]\n",
      "add [[1, 2], [], [], [], [], []]\n",
      "add [[1, 2], [2], [], [], [], []]\n",
      "add [[1, 2], [2], [], [4], [], []]\n",
      "add [[1, 2], [2], [], [4], [3], []]\n"
     ]
    },
    {
     "data": {
      "text/plain": [
       "[[1, 2], [2], [], [4], [3], []]"
      ]
     },
     "execution_count": 42,
     "metadata": {},
     "output_type": "execute_result"
    }
   ],
   "source": [
    "class Graph1:\n",
    "    def __init__(self,size):\n",
    "        self.lstmatrix=[]\n",
    "        for i in range(size+1):\n",
    "            self.lstmatrix.append([])\n",
    "            \n",
    "    def add_edge(self,v1,v2):\n",
    "        if v1==v2:\n",
    "            print(\"Same vertix\")\n",
    "            \n",
    "        self.lstmatrix[v1].append(v2)\n",
    "        print(\"add\",self.lstmatrix)\n",
    "        \n",
    "    def remove_edges(self,v1,v2):\n",
    "        if v2 not in self.lstmatrix[v1]:\n",
    "            print(\"Already deleted\")\n",
    "        ind=self.lstmatrix[v1].index(v2)\n",
    "        self.lstmatrix[v1].pop(ind)\n",
    "        \n",
    "    def print_matrix(self):\n",
    "        return self.lstmatrix\n",
    "\n",
    "\n",
    "g1=Graph1(5)\n",
    "g1.add_edge(0,1)\n",
    "g1.add_edge(0,2)\n",
    "g1.add_edge(1,2)\n",
    "g1.add_edge(3,4)\n",
    "g1.add_edge(4,3)\n",
    "g1.remove_edges(1,2)\n",
    "g1.print_matrix()\n",
    "\n",
    "        "
   ]
  },
  {
   "cell_type": "markdown",
   "id": "df308a70",
   "metadata": {},
   "source": [
    "## BFS Traversal of a Graph"
   ]
  },
  {
   "cell_type": "code",
   "execution_count": 43,
   "id": "2948d0ae",
   "metadata": {},
   "outputs": [
    {
     "name": "stdout",
     "output_type": "stream",
     "text": [
      "[0, 0, 0, 0, 0, 0, 0, 0, 0]\n"
     ]
    }
   ],
   "source": [
    "a=[0 for i in range(9)]\n",
    "print(a)"
   ]
  },
  {
   "cell_type": "code",
   "execution_count": 2,
   "id": "48d834bc",
   "metadata": {},
   "outputs": [
    {
     "name": "stdout",
     "output_type": "stream",
     "text": [
      "add [[], [2], [], [], [], [], [], [], [], []]\n",
      "add [[], [2, 6], [], [], [], [], [], [], [], []]\n",
      "add [[], [2, 6], [1], [], [], [], [], [], [], []]\n",
      "add [[], [2, 6], [1, 3], [], [], [], [], [], [], []]\n",
      "add [[], [2, 6], [1, 3, 4], [], [], [], [], [], [], []]\n",
      "add [[], [2, 6], [1, 3, 4], [2], [], [], [], [], [], []]\n",
      "add [[], [2, 6], [1, 3, 4], [2], [], [], [7], [], [], []]\n",
      "add [[], [2, 6], [1, 3, 4], [2], [], [], [7, 9], [], [], []]\n",
      "add [[], [2, 6], [1, 3, 4], [2], [5], [], [7, 9], [], [], []]\n",
      "add [[], [2, 6], [1, 3, 4], [2], [5, 2], [], [7, 9], [], [], []]\n",
      "add [[], [2, 6], [1, 3, 4], [2], [5, 2], [4], [7, 9], [], [], []]\n",
      "add [[], [2, 6], [1, 3, 4], [2], [5, 2], [4, 8], [7, 9], [], [], []]\n",
      "add [[], [2, 6], [1, 3, 4], [2], [5, 2], [4, 8], [7, 9], [6], [], []]\n",
      "add [[], [2, 6], [1, 3, 4], [2], [5, 2], [4, 8], [7, 9], [6, 8], [], []]\n",
      "add [[], [2, 6], [1, 3, 4], [2], [5, 2], [4, 8], [7, 9], [6, 8], [5], []]\n",
      "add [[], [2, 6], [1, 3, 4], [2], [5, 2], [4, 8], [7, 9], [6, 8], [5, 7], []]\n",
      "add [[], [2, 6], [1, 3, 4], [2], [5, 2], [4, 8], [7, 9], [6, 8], [5, 7], [6]]\n",
      "BFS of given vertex\n",
      "2 4 3 1 6 9 7 "
     ]
    },
    {
     "data": {
      "text/plain": [
       "[False, True, True, True, True, False, True, True, False, True]"
      ]
     },
     "execution_count": 2,
     "metadata": {},
     "output_type": "execute_result"
    }
   ],
   "source": [
    "\n",
    "class Graph1:\n",
    "    def __init__(self,size):\n",
    "        self.visited=[False for i in range(size+1)]\n",
    "        self.lstmatrix=[]\n",
    "        for i in range(size+1):\n",
    "            self.lstmatrix.append([])\n",
    "            \n",
    "    def add_edge(self,v1,v2):\n",
    "        if v1==v2:\n",
    "            print(\"Same vertix\")\n",
    "            \n",
    "        self.lstmatrix[v1].append(v2)\n",
    "        print(\"add\",self.lstmatrix)\n",
    "\n",
    "    def bfs(self,check):\n",
    "        q=[]\n",
    "        q.append(check)\n",
    "        self.visited[check]=True\n",
    "        while q:\n",
    "            node=q.pop()\n",
    "            print(node , end=\" \")\n",
    "            \n",
    "            for i in self.lstmatrix[check]:\n",
    "                if self.visited[i]==False:\n",
    "                    q.append(i)\n",
    "                    self.visited[i]=True\n",
    "                    \n",
    "                    \n",
    "    def print_visitedmat(self):\n",
    "        return self.visited\n",
    "        \n",
    "\n",
    "    def remove_edges(self,v1,v2):\n",
    "        if v2 not in self.lstmatrix[v1]:\n",
    "            print(\"Already deleted\")\n",
    "        ind=self.lstmatrix[v1].index(v2)\n",
    "        self.lstmatrix[v1].pop(ind)\n",
    "    \n",
    "        \n",
    "    def print_matrix(self):\n",
    "        return self.lstmatrix\n",
    "\n",
    "g1=Graph1(9)\n",
    "g1.add_edge(1,2)\n",
    "g1.add_edge(1,6)\n",
    "g1.add_edge(2,1)\n",
    "g1.add_edge(2,3)\n",
    "g1.add_edge(2,4)\n",
    "g1.add_edge(3,2)\n",
    "g1.add_edge(6,7)\n",
    "g1.add_edge(6,9)\n",
    "g1.add_edge(4,5)\n",
    "g1.add_edge(4,2)\n",
    "g1.add_edge(5,4)\n",
    "g1.add_edge(5,8)\n",
    "g1.add_edge(7,6)\n",
    "g1.add_edge(7,8)\n",
    "g1.add_edge(8,5)\n",
    "g1.add_edge(8,7)\n",
    "g1.add_edge(9,6)\n",
    "g1.print_matrix()\n",
    "print(\"BFS of given vertex\")\n",
    "g1.bfs(2)\n",
    "g1.bfs(6)\n",
    "g1.print_visitedmat()\n",
    "\n",
    "        \n",
    "    "
   ]
  },
  {
   "cell_type": "markdown",
   "id": "828fb34e",
   "metadata": {},
   "source": [
    "## DFS of a Graph"
   ]
  },
  {
   "cell_type": "code",
   "execution_count": 33,
   "id": "1ae94de4",
   "metadata": {},
   "outputs": [
    {
     "name": "stdout",
     "output_type": "stream",
     "text": [
      "matrix [[], [2], [1], [], [], [], [], [], [], []]\n",
      "matrix [[], [2, 6], [1], [], [], [], [1], [], [], []]\n",
      "matrix [[], [2, 6], [1, 3], [2], [], [], [1], [], [], []]\n",
      "matrix [[], [2, 6], [1, 3, 4], [2], [2], [], [1], [], [], []]\n",
      "matrix [[], [2, 6], [1, 3, 4], [2], [2], [], [1, 7], [6], [], []]\n",
      "matrix [[], [2, 6], [1, 3, 4], [2], [2], [], [1, 7, 9], [6], [], [6]]\n",
      "matrix [[], [2, 6], [1, 3, 4], [2], [2, 5], [4], [1, 7, 9], [6], [], [6]]\n",
      "matrix [[], [2, 6], [1, 3, 4], [2], [2, 5], [4, 8], [1, 7, 9], [6], [5], [6]]\n",
      "matrix [[], [2, 6], [1, 3, 4], [2], [2, 5], [4, 8], [1, 7, 9], [6, 8], [5, 7], [6]]\n",
      "instance [False, False, False, False, False, True, False, False, False, False]\n",
      "instance [False, False, False, False, True, True, False, False, False, False]\n",
      "instance [False, False, True, False, True, True, False, False, False, False]\n",
      "instance [False, True, True, False, True, True, False, False, False, False]\n",
      "instance [False, True, True, False, True, True, True, False, False, False]\n",
      "instance [False, True, True, False, True, True, True, True, False, False]\n",
      "instance [False, True, True, False, True, True, True, True, True, False]\n",
      "instance [False, True, True, False, True, True, True, True, True, True]\n",
      "instance [False, True, True, True, True, True, True, True, True, True]\n",
      "DFS of given vertex\n",
      "Visited Matrix\n"
     ]
    },
    {
     "data": {
      "text/plain": [
       "[False, True, True, True, True, True, True, True, True, True]"
      ]
     },
     "execution_count": 33,
     "metadata": {},
     "output_type": "execute_result"
    }
   ],
   "source": [
    "class Graph1:\n",
    "    def __init__(self,size):\n",
    "        self.visited=[False for i in range(size+1)]\n",
    "        self.lstmatrix=[]\n",
    "        for i in range(size+1):\n",
    "            self.lstmatrix.append([])\n",
    "            \n",
    "    def add_edge(self,v1,v2):\n",
    "        if v1==v2:\n",
    "            print(\"Same vertex\")\n",
    "        self.lstmatrix[v1].append(v2)\n",
    "        self.lstmatrix[v2].append(v1)\n",
    "        print(\"matrix\",self.lstmatrix)\n",
    "        \n",
    "    def remove_edges(self,v1,v2):\n",
    "        if v2 not in self.lstmatrix[v1]:\n",
    "            print(\"Already deleted\")\n",
    "        if v1 not in self.lstmatrix[v2]:\n",
    "            print(\"Already deleted\")\n",
    "            \n",
    "        ind=self.lstmatrix[v1].index(v2)\n",
    "        self.lstmatrix[v1].pop(ind)    \n",
    "        ind1=self.lstmatrix[v2].index(v1)\n",
    "        self.lstmatrix[v2].pop(ind1)\n",
    "        \n",
    "    def print_matrix(self):\n",
    "        return self.lstmatrix\n",
    "    \n",
    "    def print_visited(self):\n",
    "        return self.visited\n",
    "    \n",
    "    \n",
    "    def dfs(self,v):\n",
    "        \n",
    "\n",
    "        self.visited[v]=True\n",
    "        print(\"instance\",self.visited)\n",
    "        \n",
    "        for i in self.lstmatrix[v]:\n",
    "            #print(i)\n",
    "            if self.visited[i]==False:\n",
    "                self.dfs(i)\n",
    "    \n",
    "        \n",
    "        \n",
    "        \n",
    "g1=Graph1(9)\n",
    "g1.add_edge(1,2)\n",
    "g1.add_edge(1,6)\n",
    "g1.add_edge(2,3)\n",
    "g1.add_edge(2,4)\n",
    "g1.add_edge(6,7)\n",
    "g1.add_edge(6,9)\n",
    "g1.add_edge(4,5)\n",
    "g1.add_edge(5,8)\n",
    "g1.add_edge(7,8)\n",
    "g1.dfs(5)\n",
    "print(\"DFS of given vertex\")\n",
    "g1.print_matrix()\n",
    "print(\"Visited Matrix\")\n",
    "g1.print_visited()\n"
   ]
  },
  {
   "cell_type": "code",
   "execution_count": 25,
   "id": "f59d6352",
   "metadata": {},
   "outputs": [
    {
     "name": "stdout",
     "output_type": "stream",
     "text": [
      "Following is DFS from (starting from vertex 2)\n",
      "7 8 "
     ]
    }
   ],
   "source": []
  },
  {
   "cell_type": "code",
   "execution_count": null,
   "id": "5f98d624",
   "metadata": {},
   "outputs": [],
   "source": []
  }
 ],
 "metadata": {
  "kernelspec": {
   "display_name": "Python 3 (ipykernel)",
   "language": "python",
   "name": "python3"
  },
  "language_info": {
   "codemirror_mode": {
    "name": "ipython",
    "version": 3
   },
   "file_extension": ".py",
   "mimetype": "text/x-python",
   "name": "python",
   "nbconvert_exporter": "python",
   "pygments_lexer": "ipython3",
   "version": "3.9.13"
  }
 },
 "nbformat": 4,
 "nbformat_minor": 5
}
