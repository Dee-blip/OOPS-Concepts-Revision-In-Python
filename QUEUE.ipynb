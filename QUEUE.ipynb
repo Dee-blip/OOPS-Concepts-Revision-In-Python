{
 "cells": [
  {
   "cell_type": "markdown",
   "id": "93c3179e",
   "metadata": {},
   "source": [
    "## Queue Using Array"
   ]
  },
  {
   "cell_type": "code",
   "execution_count": 12,
   "id": "3bb7db7f",
   "metadata": {},
   "outputs": [
    {
     "name": "stdout",
     "output_type": "stream",
     "text": [
      "Size 5\n",
      "1\n",
      "2\n",
      "3\n",
      "4\n",
      "5\n",
      "Array is Empty\n",
      "Size 0\n"
     ]
    }
   ],
   "source": [
    "class QueueArray:\n",
    "    def __init__(self):\n",
    "        self.arr=[]\n",
    "        self.count=0\n",
    "        self.front=0\n",
    "    \n",
    "    def enqueueQ(self,data):\n",
    "        self.arr.append(data)\n",
    "        self.count+=1\n",
    "    \n",
    "    def dequeueQ(self):\n",
    "        if self.count==0:\n",
    "            return \"Array is Empty\"\n",
    "        ele=self.arr[self.front]\n",
    "        self.count-=1\n",
    "        self.front+=1\n",
    "    \n",
    "    def front1(self):\n",
    "        if self.count==0:\n",
    "            return \"Array is empty\"\n",
    "        return self.arr[self.front]\n",
    "    def size(self):\n",
    "        return self.count\n",
    "    \n",
    "    def isEmpty(self):\n",
    "        return self.size()==0\n",
    "        \n",
    "            \n",
    "        \n",
    "        \n",
    "\n",
    "q=QueueArray()\n",
    "q.enqueueQ(1)\n",
    "q.enqueueQ(2)\n",
    "q.enqueueQ(3)\n",
    "q.enqueueQ(4)\n",
    "q.enqueueQ(5)\n",
    "print(\"Size\",q.size())\n",
    "while (q.isEmpty() is False):\n",
    "    print(q.front1())\n",
    "    q.dequeueQ()\n",
    "print(q.dequeueQ())\n",
    "print(\"Size\",q.size())\n"
   ]
  },
  {
   "cell_type": "markdown",
   "id": "80f32311",
   "metadata": {},
   "source": [
    "## Queue Using LinkedList"
   ]
  },
  {
   "cell_type": "markdown",
   "id": "a5a034cc",
   "metadata": {},
   "source": [
    "In coding ninjas question already exist."
   ]
  },
  {
   "cell_type": "code",
   "execution_count": 5,
   "id": "5d725d93",
   "metadata": {},
   "outputs": [
    {
     "name": "stdout",
     "output_type": "stream",
     "text": [
      "8\n",
      "5\n"
     ]
    }
   ],
   "source": [
    "a=[1,2,3,4,5,6,7,8]\n",
    "print(a.pop())\n",
    "print(a.pop(4))"
   ]
  },
  {
   "cell_type": "markdown",
   "id": "9c1518c3",
   "metadata": {},
   "source": [
    "## Inbuilt Queue"
   ]
  },
  {
   "cell_type": "code",
   "execution_count": 8,
   "id": "37fc153a",
   "metadata": {},
   "outputs": [
    {
     "name": "stdout",
     "output_type": "stream",
     "text": [
      "1\n",
      "2\n",
      "3\n",
      "4\n"
     ]
    }
   ],
   "source": [
    "import queue\n",
    "q=queue.Queue()\n",
    "q.put(1)\n",
    "q.put(2)\n",
    "q.put(3)\n",
    "q.put(4)\n",
    "\n",
    "while not q.empty():\n",
    "    print(q.get())"
   ]
  },
  {
   "cell_type": "code",
   "execution_count": null,
   "id": "4e4e2599",
   "metadata": {},
   "outputs": [],
   "source": [
    "import queue\n",
    "q=queue.LifoQueue()\n",
    "q.put(1)\n",
    "q.put(2)\n",
    "q.put(3)\n",
    "q.put(4)\n",
    "\n",
    "while not q.empty():\n",
    "    print(q.get())\n",
    "print(q)"
   ]
  },
  {
   "cell_type": "markdown",
   "id": "b244ee42",
   "metadata": {},
   "source": [
    "## Queue using two stacks"
   ]
  },
  {
   "cell_type": "markdown",
   "id": "e7f53c23",
   "metadata": {},
   "source": [
    "done"
   ]
  },
  {
   "cell_type": "markdown",
   "id": "8776bab5",
   "metadata": {},
   "source": [
    "## Deque in Python\n"
   ]
  },
  {
   "cell_type": "code",
   "execution_count": 2,
   "id": "0f975de5",
   "metadata": {},
   "outputs": [],
   "source": [
    "from collections import deque"
   ]
  },
  {
   "cell_type": "code",
   "execution_count": 3,
   "id": "65914fed",
   "metadata": {},
   "outputs": [
    {
     "name": "stdout",
     "output_type": "stream",
     "text": [
      "deque([1, 2, 3])\n"
     ]
    }
   ],
   "source": [
    "queue=deque([1,2,3])\n",
    "print(queue)"
   ]
  },
  {
   "cell_type": "code",
   "execution_count": 4,
   "id": "b69937ea",
   "metadata": {},
   "outputs": [],
   "source": [
    "queue.append(4)"
   ]
  },
  {
   "cell_type": "code",
   "execution_count": 5,
   "id": "e1a49c95",
   "metadata": {},
   "outputs": [
    {
     "name": "stdout",
     "output_type": "stream",
     "text": [
      "deque([1, 2, 3, 4])\n"
     ]
    }
   ],
   "source": [
    "print(queue)"
   ]
  },
  {
   "cell_type": "code",
   "execution_count": 9,
   "id": "d54a66cf",
   "metadata": {},
   "outputs": [],
   "source": [
    "queue.append(4)"
   ]
  },
  {
   "cell_type": "code",
   "execution_count": 14,
   "id": "6482b3ec",
   "metadata": {},
   "outputs": [],
   "source": [
    "queue.appendleft(5)"
   ]
  },
  {
   "cell_type": "code",
   "execution_count": 15,
   "id": "cd3c9841",
   "metadata": {},
   "outputs": [
    {
     "name": "stdout",
     "output_type": "stream",
     "text": [
      "deque([5, 5, 5, 5, 5, 1, 2, 3, 4, 4])\n"
     ]
    }
   ],
   "source": [
    "print(queue)"
   ]
  },
  {
   "cell_type": "markdown",
   "id": "3a061540",
   "metadata": {},
   "source": [
    "index(ele,begining,end)"
   ]
  },
  {
   "cell_type": "code",
   "execution_count": 20,
   "id": "c95dd6c6",
   "metadata": {},
   "outputs": [
    {
     "name": "stdout",
     "output_type": "stream",
     "text": [
      "8\n"
     ]
    }
   ],
   "source": [
    "print(queue.index(4,0,11))"
   ]
  },
  {
   "cell_type": "code",
   "execution_count": 25,
   "id": "1f85901a",
   "metadata": {},
   "outputs": [
    {
     "name": "stdout",
     "output_type": "stream",
     "text": [
      "None\n"
     ]
    }
   ],
   "source": [
    "print(queue.insert(1,10123))"
   ]
  },
  {
   "cell_type": "code",
   "execution_count": 26,
   "id": "a8749966",
   "metadata": {},
   "outputs": [
    {
     "name": "stdout",
     "output_type": "stream",
     "text": [
      "deque([5, 10123, 5, 5, 5, 5, 1, 2, 3, 4, 4, 1])\n"
     ]
    }
   ],
   "source": [
    "print(queue)"
   ]
  },
  {
   "cell_type": "code",
   "execution_count": 27,
   "id": "fcdb5ee7",
   "metadata": {},
   "outputs": [],
   "source": [
    "queue.remove(10123)"
   ]
  },
  {
   "cell_type": "code",
   "execution_count": 28,
   "id": "597f06c4",
   "metadata": {},
   "outputs": [
    {
     "name": "stdout",
     "output_type": "stream",
     "text": [
      "deque([5, 5, 5, 5, 5, 1, 2, 3, 4, 4, 1])\n"
     ]
    }
   ],
   "source": [
    "print(queue)"
   ]
  },
  {
   "cell_type": "code",
   "execution_count": 31,
   "id": "1004ce23",
   "metadata": {},
   "outputs": [
    {
     "data": {
      "text/plain": [
       "2"
      ]
     },
     "execution_count": 31,
     "metadata": {},
     "output_type": "execute_result"
    }
   ],
   "source": [
    "queue.count(4)"
   ]
  },
  {
   "cell_type": "code",
   "execution_count": 32,
   "id": "68e34415",
   "metadata": {},
   "outputs": [],
   "source": [
    "queue.extend([11,12,13])"
   ]
  },
  {
   "cell_type": "code",
   "execution_count": 33,
   "id": "61e9e785",
   "metadata": {},
   "outputs": [
    {
     "name": "stdout",
     "output_type": "stream",
     "text": [
      "deque([5, 5, 5, 5, 5, 1, 2, 3, 4, 4, 1, 11, 12, 13])\n"
     ]
    }
   ],
   "source": [
    "print(queue)"
   ]
  },
  {
   "cell_type": "code",
   "execution_count": 34,
   "id": "0ecfa442",
   "metadata": {},
   "outputs": [],
   "source": [
    "queue.extendleft([11,2,2,31,21])"
   ]
  },
  {
   "cell_type": "code",
   "execution_count": 35,
   "id": "11aaa501",
   "metadata": {},
   "outputs": [
    {
     "name": "stdout",
     "output_type": "stream",
     "text": [
      "deque([21, 31, 2, 2, 11, 5, 5, 5, 5, 5, 1, 2, 3, 4, 4, 1, 11, 12, 13])\n"
     ]
    }
   ],
   "source": [
    "print(queue)\n"
   ]
  },
  {
   "cell_type": "code",
   "execution_count": 37,
   "id": "606b45b0",
   "metadata": {},
   "outputs": [],
   "source": [
    "queue.rotate(-10)"
   ]
  },
  {
   "cell_type": "code",
   "execution_count": 38,
   "id": "465c678e",
   "metadata": {},
   "outputs": [
    {
     "name": "stdout",
     "output_type": "stream",
     "text": [
      "deque([1, 2, 3, 4, 4, 1, 11, 12, 13, 21, 31, 2, 2, 11, 5, 5, 5, 5, 5])\n"
     ]
    }
   ],
   "source": [
    "print(queue)"
   ]
  },
  {
   "cell_type": "code",
   "execution_count": 39,
   "id": "3a95c69a",
   "metadata": {},
   "outputs": [],
   "source": [
    "queue.reverse()"
   ]
  },
  {
   "cell_type": "code",
   "execution_count": 40,
   "id": "638fe3d0",
   "metadata": {},
   "outputs": [
    {
     "name": "stdout",
     "output_type": "stream",
     "text": [
      "deque([5, 5, 5, 5, 5, 11, 2, 2, 31, 21, 13, 12, 11, 1, 4, 4, 3, 2, 1])\n"
     ]
    }
   ],
   "source": [
    "print(queue)"
   ]
  },
  {
   "cell_type": "code",
   "execution_count": null,
   "id": "376ab4f8",
   "metadata": {},
   "outputs": [],
   "source": [
    "# Stack using two queues\n",
    "import queue\n",
    "class SUQueue:\n",
    "    def __init__(self):\n",
    "        self.q1=queue.Queue()\n",
    "        self.q2=queue.Queue()\n",
    "#         self.count+=1\n",
    "    \n",
    "    def push(self,x):\n",
    "        self.q2.put(x)\n",
    "        while self.q1:\n",
    "            self.q2.put(self.q1.queue[0])\n",
    "            self.q1.get()\n",
    "        self.q1,self.q2=self.q2,self.q1\n",
    "        \n",
    "    def pull(self):\n",
    "        if self.q1.isempty():\n",
    "            return\n",
    "        return self.q1.get()\n",
    "        \n",
    "        \n",
    "    def peak(self):\n",
    "        if self.q1.isempty():\n",
    "            return -1\n",
    "        return self.q1.queue[0]\n",
    "        \n",
    "    def isempty(self):\n",
    "        self.q1.qsize()==0\n",
    "        \n"
   ]
  }
 ],
 "metadata": {
  "kernelspec": {
   "display_name": "Python 3 (ipykernel)",
   "language": "python",
   "name": "python3"
  },
  "language_info": {
   "codemirror_mode": {
    "name": "ipython",
    "version": 3
   },
   "file_extension": ".py",
   "mimetype": "text/x-python",
   "name": "python",
   "nbconvert_exporter": "python",
   "pygments_lexer": "ipython3",
   "version": "3.9.13"
  }
 },
 "nbformat": 4,
 "nbformat_minor": 5
}
